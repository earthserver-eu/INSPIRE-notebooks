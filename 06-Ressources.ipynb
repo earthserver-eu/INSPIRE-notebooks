{
 "cells": [
  {
   "cell_type": "markdown",
   "metadata": {},
   "source": [
    "<img style=\"float: right;\" src=\"./img/es2_logo_tiny.jpg\"></img>"
   ]
  },
  {
   "cell_type": "markdown",
   "metadata": {},
   "source": [
    "# 06-Ressources"
   ]
  },
  {
   "cell_type": "markdown",
   "metadata": {},
   "source": [
    "<a href=\"./05-xWCPS_intro.ipynb\"><< 05-Introduction to xWCPS </a>&nbsp;<space>&nbsp;<space>&nbsp;<space>&nbsp;<space>&nbsp;<space>&nbsp;<space>&nbsp;<space>&nbsp;<space>&nbsp;<space>&nbsp;<space> <a href=\"./index.ipynb\">Index >></a>"
   ]
  },
  {
   "cell_type": "markdown",
   "metadata": {},
   "source": [
    "Subsequently, we compiled a list of useful ressources to get started with WCS 2.0 and WCPS 1.0. You further find available WCS server endpoints listed and an overview of the data available via the servers."
   ]
  },
  {
   "cell_type": "markdown",
   "metadata": {},
   "source": [
    "* [WCS server endpoints](#server_endpoints)\n",
    "* [Data overview](#data_overview)\n",
    "  * [PlanetServer](#planetserver_data)\n",
    "  * [EO Data Server](#eo_data)\n",
    "  * [Marine Science Data Server](#marine_data)\n",
    "  * [Climate Science Data Server](#climate_data)\n",
    "* [Further Ressources](#ressources)"
   ]
  },
  {
   "cell_type": "markdown",
   "metadata": {},
   "source": [
    "***"
   ]
  },
  {
   "cell_type": "markdown",
   "metadata": {},
   "source": [
    "## <a id='server_endpoints'></a><font color=\"black\">WCS server endpoints</font>"
   ]
  },
  {
   "cell_type": "markdown",
   "metadata": {},
   "source": [
    "* <b>PlanetServer: http://access.planetserver.eu:8080/rasdaman/ows </b>  \n",
    "* <b>EO Data Service: http://eodataservice.org/rasdaman/ows </b>  \n",
    "* <b>Marine Science Data Server: http://earthserver.pml.ac.uk/rasdaman/ows </b>  \n",
    "* <b>Climate Science Data Server: http://earthserver.ecmwf.int/rasdaman/ows </b>\n"
   ]
  },
  {
   "cell_type": "markdown",
   "metadata": {},
   "source": [
    "***"
   ]
  },
  {
   "cell_type": "markdown",
   "metadata": {},
   "source": [
    "## <a id='data_overview'></a><font color=\"black\">Data overview</font>"
   ]
  },
  {
   "cell_type": "markdown",
   "metadata": {},
   "source": [
    "### <a id='planetserver_data'></a><font color=\"black\">PlanetServer</font>"
   ]
  },
  {
   "cell_type": "markdown",
   "metadata": {
    "collapsed": true
   },
   "source": [
    "<b><a style=\"font-size: 120%\"> COMPACT RECONNAISSANCE IMAGING SPECTROMETER FOR MARS (CRISM)</a></b>"
   ]
  },
  {
   "cell_type": "markdown",
   "metadata": {},
   "source": [
    "| Observation type                                 | Example Coverage name on the server | Spatial resolution         |\n",
    "|--------------------------------------------------|-------------------------------------|----------------------------|\n",
    "| FRT (Full Resolution Targeted Observation)       | frt0000bc30_07_if165l_trr3          | 18m/pixel @300 km altitude |\n",
    "| HRL (Half Resolution Long Targeted Observation)  | hrl0000822e_07_if182l_trr3          | 36m/pixel @300 km altitude |\n",
    "| HRS (Half Resolution Short Targeted Observation) | hrs0000a927_07_if174l_trr3          | 36m/pixel @300 km altitude |"
   ]
  },
  {
   "cell_type": "markdown",
   "metadata": {},
   "source": [
    "| Volume number | Number of coverages | Total size |\n",
    "|---------------|---------------------|------------|\n",
    "| mrocr_2101    | 2978                | 1.4 TB     |\n",
    "| mrocr_2102    | 11611               | 5.5 TB     |\n",
    "| mrocr_2103    | 7071                | 2.7 TB     |\n",
    "| mrocr_2104    | 6453                | 2.3 TB     |"
   ]
  },
  {
   "cell_type": "markdown",
   "metadata": {},
   "source": [
    "<b><a style=\"font-size: 120%\"> MOON MINERALOGY MAPPER (M3) </a></b>"
   ]
  },
  {
   "cell_type": "markdown",
   "metadata": {},
   "source": [
    "| Observation type                                 | Example Coverage name on the server | Spatial resolution         |\n",
    "|--------------------------------------------------|-------------------------------------|----------------------------|\n",
    "| Reduced image data      | M3G20081130T165323_V01_L2_HACK_simp0.tif | 70 - 140 m/pixel @100 km altitude |"
   ]
  },
  {
   "cell_type": "markdown",
   "metadata": {},
   "source": [
    "| Volume number | Number of coverages | Total size |\n",
    "|---------------|---------------------|------------|\n",
    "| 200811    | 9                | 94 GB     |\n",
    "| 200811    | 28               |   472 GB   |\n",
    "| 200901    | 43                |   591 GB  |\n",
    "| 200902    | 97                | 3.4 TB      |"
   ]
  },
  {
   "cell_type": "markdown",
   "metadata": {},
   "source": [
    "***"
   ]
  },
  {
   "cell_type": "markdown",
   "metadata": {},
   "source": [
    "### <a id='eo_data'></a><font color=\"black\">EO Data Server</font>"
   ]
  },
  {
   "cell_type": "markdown",
   "metadata": {},
   "source": [
    "<b><a style=\"font-size: 120%\"> Landsat8 - ESA Third Party Missions</a></b>\n",
    "<p>ESA is an International Co-operator with USGS for the Landsat-8 Mission. Data is downlinked via Kiruna and Matera (KIS and MTI) stations whenever the satellite passes over Europe, starting from November 2013. Typically the station's will receive 2 or 3 passes per day each and there will be some new scenes for each path, in accordance with the overall mission acquisition plan. Data are processed to either L1T or L1Gt product format.</a></p>"
   ]
  },
  {
   "cell_type": "markdown",
   "metadata": {
    "collapsed": true
   },
   "source": [
    "| Parameter | Coverage name on the server | Time period covered | Spatial resolution | Temporal resolution | Data volume |\n",
    "|------------------------|----------------|------------------|-----------------|-----------------------|-------------|\n",
    "| Reflectance data (Level 1T, Level 1Gt) | LC8_B<##>_<UTM code>_30 | Since November 2013 | European coverage @ 30 meters | daily granules | ~210TB  |\n",
    "| Normalized Difference Vegetation Index (NDVI) | LC8_NDVI_<UTM code>_30 | Since November 2013 | European coverage @ 30 meters | daily granules | ~21TB  |\n",
    "| Cloud Free NDVI | LC8_NDVIMASK_<UTM code>_30 | Since November 2013 | European coverage @ 30 meters | daily granules | ~21TB |"
   ]
  },
  {
   "cell_type": "markdown",
   "metadata": {},
   "source": [
    "*** "
   ]
  },
  {
   "cell_type": "markdown",
   "metadata": {},
   "source": [
    "### <a id='marine_data'></a><font color=\"black\">Marine Science Data Server</font>"
   ]
  },
  {
   "cell_type": "markdown",
   "metadata": {},
   "source": [
    "<b><a style=\"font-size: 120%\"> ESA Climate Change Initiative - Ocean Colour Data </a></b>\n",
    "<p>Version 2 data highlighted below, Version 1 is available and Version 3 is being added currently. For more info take a look at <a href=\"http://earthserver.pml.ac.uk/rasdaman/ows\">the marine science data service</a></p>"
   ]
  },
  {
   "cell_type": "markdown",
   "metadata": {
    "collapsed": true
   },
   "source": [
    "| Parameter | Coverage name on the server | Time period covered | Spatial resolution | Temporal resolution | Data volume |\n",
    "|------------------------|----------------|------------------|-----------------|-----------------------|-------------|\n",
    "|Chlorohpyll|CCI_V2_release_chlor_a| 1 January 1997 - 31 December 2014| Global 4Kmx4Km |Monthly|6 TB |\n",
    "|Chlorophyll Bias Uncertainty|CCI_V2_release_chlor_a_log10_bias| 1 January 1997 - 31 December 2014| Global 4Kmx4Km |Monthly|6 TB |\n",
    "|Chlorophyll RMSD|CCI_V2_monthly_chlor_a_rmsd| 1 January 1997 - 31 December 2014| Global 4Kmx4Km |Monthly|6 TB |\n",
    "|Raw Reflectance data|CCI_V2_monthly\\_Rrs\\_\\[frequency\\]| 1 January 1997 - 31 December 2014| Global 4Kmx4Km |Monthly|40 TB |"
   ]
  },
  {
   "cell_type": "markdown",
   "metadata": {},
   "source": [
    "*** "
   ]
  },
  {
   "cell_type": "markdown",
   "metadata": {},
   "source": [
    "### <a id='climate_data'></a><font color=\"black\">Climate Science Data Server</font>"
   ]
  },
  {
   "cell_type": "markdown",
   "metadata": {},
   "source": [
    "<b><a style=\"font-size: 120%\"> ERA-INTERIM RIVER DISCHARGE DATA </a></b>"
   ]
  },
  {
   "cell_type": "markdown",
   "metadata": {},
   "source": [
    "#### Surface level parameter"
   ]
  },
  {
   "cell_type": "markdown",
   "metadata": {},
   "source": [
    "| Parameter | Coverage name on the server | Time period covered | Spatial resolution | Temporal resolution | Data volume |\n",
    "|------------------------|----------------|------------------|-----------------|-----------------------|-------------|\n",
    "|2 m air temperature|temp2m| 1 January 1979 - 31 December 2015| Global (0.5x0.5 deg)|6-hourly|27 GB|\n",
    "|Sea surface temperature|SST| 1 January 1979 - 31 December 2015| Global (0.5x0.5 deg)|6-hourly|20 GB|\n",
    "|Mean sea level pressure|mslp| 1 January 1979 - 31 December 2015| Global (0.5x0.5 deg)|6-hourly|27 GB|\n",
    "|Volumetric soil moisture|soil_moisture| 1 January 1979 - 31 December 2015| Global (0.5x0.5 deg)|6-hourly|27 GB|"
   ]
  },
  {
   "cell_type": "markdown",
   "metadata": {},
   "source": [
    "#### Accumulated forecast"
   ]
  },
  {
   "cell_type": "markdown",
   "metadata": {},
   "source": [
    "| Parameter | Coverage name on the server | Time period covered | Spatial resolution | Temporal resolution | Data volume |\n",
    "|------------------------|----------------|------------------|-----------------|-----------------------|-------------|\n",
    "|Total precipitation|precipitation| 2 January 1979 - 31 December 2015| Global (0.5x0.5 deg)|6-hourly|27 GB|"
   ]
  },
  {
   "cell_type": "markdown",
   "metadata": {},
   "source": [
    "#### Pressure level (500 / 850 / 1000 hPa)"
   ]
  },
  {
   "cell_type": "markdown",
   "metadata": {},
   "source": [
    "| Parameter | Coverage name on the server | Time period covered | Spatial resolution | Temporal resolution | Data volume |\n",
    "|------------------------|----------------|------------------|-----------------|-----------------------|-------------|\n",
    "|Geopotential height|pl_geopot| 1 January 1979 - 31 December 2015| Global (0.5x0.5 deg)|6-hourly|79 GB|\n",
    "|Temperature|pl_t2m| 1 January 1979 - 31 December 2015| Global (0.5x0.5 deg)|6-hourly|79 GB|\n",
    "|Relative humidity|pl_relhum| 1 January 1979 - 31 December 2015| Global (0.5x0.5 deg)|6-hourly|79 GB|"
   ]
  },
  {
   "cell_type": "markdown",
   "metadata": {},
   "source": [
    "  "
   ]
  },
  {
   "cell_type": "markdown",
   "metadata": {},
   "source": [
    "<b><a style=\"font-size: 120%\"> GLOFAS RIVER DISCHARGE FORECAST DATA </a></b>"
   ]
  },
  {
   "cell_type": "markdown",
   "metadata": {},
   "source": [
    "| Parameter | Coverage name on the server | Time period covered | Spatial resolution | Temporal resolution | Data volume |\n",
    "|------------------------|----------------|------------------|-----------------|-----------------------|-------------|\n",
    "|River discharge forecast|river_discharge_forecast_opt2| 8 April 2008 | Global (0.1x0.1 deg)|daily|31 GB|\n",
    "|Return level discharge|return_level2, return_level5, return_level20| | Global (0.1x0.1 deg)|1 coverage per return level period|0.6 GB|\n",
    "|ERA-interim discharge data|ERA_discharge| 1 January 1981 - 31 December 1989| Global (0.1x0.1 deg)|daily|81 GB|"
   ]
  },
  {
   "cell_type": "markdown",
   "metadata": {},
   "source": [
    "***"
   ]
  },
  {
   "cell_type": "markdown",
   "metadata": {},
   "source": [
    "## <a id='further_ressources'></a><font color=\"black\">Further Ressources</font>"
   ]
  },
  {
   "cell_type": "markdown",
   "metadata": {},
   "source": [
    "More information about the EarthServer project:\n",
    "* [EarthServer-2 website](http://earthserver.eu)\n",
    "\n",
    "Web portals of EarthServer's data provider:\n",
    "* [PlanetServer](http://planetserver.eu)\n",
    "* [EO Data Server](http://eodataservice.org/)\n",
    "* [Marine Science Service](http://earthserver.pml.ac.uk/)\n",
    "* [WCS for Climate Data](http://earthserver.ecmwf.int)"
   ]
  },
  {
   "cell_type": "markdown",
   "metadata": {},
   "source": [
    "***"
   ]
  },
  {
   "cell_type": "markdown",
   "metadata": {},
   "source": [
    "### WCPS Webinar Part 1: Introduction"
   ]
  },
  {
   "cell_type": "code",
   "execution_count": 3,
   "metadata": {
    "collapsed": false
   },
   "outputs": [
    {
     "data": {
      "text/html": [
       "\n",
       "        <iframe\n",
       "            width=\"700\"\n",
       "            height=\"400\"\n",
       "            src=\"https://www.youtube.com/embed/MnPABAAQnXM\"\n",
       "            frameborder=\"0\"\n",
       "            allowfullscreen\n",
       "        ></iframe>\n",
       "        "
      ],
      "text/plain": [
       "<IPython.lib.display.YouTubeVideo at 0x7fe1640f8350>"
      ]
     },
     "execution_count": 3,
     "metadata": {},
     "output_type": "execute_result"
    }
   ],
   "source": [
    "from IPython.display import YouTubeVideo\n",
    "YouTubeVideo('MnPABAAQnXM', width=700, height=400)"
   ]
  },
  {
   "cell_type": "markdown",
   "metadata": {},
   "source": [
    "### WCPS Webinar Part 2: Advanced Queries"
   ]
  },
  {
   "cell_type": "code",
   "execution_count": 4,
   "metadata": {
    "collapsed": false
   },
   "outputs": [
    {
     "data": {
      "text/html": [
       "\n",
       "        <iframe\n",
       "            width=\"700\"\n",
       "            height=\"400\"\n",
       "            src=\"https://www.youtube.com/embed/m1q2AIoQADs\"\n",
       "            frameborder=\"0\"\n",
       "            allowfullscreen\n",
       "        ></iframe>\n",
       "        "
      ],
      "text/plain": [
       "<IPython.lib.display.YouTubeVideo at 0x7fe1640f8090>"
      ]
     },
     "execution_count": 4,
     "metadata": {},
     "output_type": "execute_result"
    }
   ],
   "source": [
    "YouTubeVideo('m1q2AIoQADs', width=700, height=400)"
   ]
  },
  {
   "cell_type": "markdown",
   "metadata": {},
   "source": [
    "***"
   ]
  },
  {
   "cell_type": "markdown",
   "metadata": {},
   "source": [
    "<a rel=\"license\" href=\"http://creativecommons.org/licenses/by-nc/4.0/\"><img style=\"float: right;\" alt=\"Creative Commons License\" style=\"border-width:0\" src=\"https://i.creativecommons.org/l/by-nc/4.0/88x31.png\" /></a>"
   ]
  }
 ],
 "metadata": {
  "kernelspec": {
   "display_name": "Python 2",
   "language": "python",
   "name": "python2"
  },
  "language_info": {
   "codemirror_mode": {
    "name": "ipython",
    "version": 2
   },
   "file_extension": ".py",
   "mimetype": "text/x-python",
   "name": "python",
   "nbconvert_exporter": "python",
   "pygments_lexer": "ipython2",
   "version": "2.7.8"
  }
 },
 "nbformat": 4,
 "nbformat_minor": 0
}
